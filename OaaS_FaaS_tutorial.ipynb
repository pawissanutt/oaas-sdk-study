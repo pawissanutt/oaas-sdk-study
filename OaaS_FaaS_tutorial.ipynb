{
  "cells": [
    {
      "cell_type": "markdown",
      "metadata": {
        "id": "kA503Ews3Cc0"
      },
      "source": [
        "# Serverless Computing: A Developer's Guide to FaaS and OaaS\n",
        "\n",
        "This tutorial will guide you through two popular paradigms in serverless computing: Function-as-a-Service (FaaS) and Object-as-a-Service (OaaS). We'll start with FaaS, explore its common patterns and limitations, and then introduce OaaS as an approach designed to address some of these challenges.\n",
        "\n",
        "**YOU DON'T NEED TO RUN THE CODE. THE PURPOSE OF USING COLAB IS SYNTAX HIGHLIGHTING.**\n",
        "---\n"
      ]
    },
    {
      "cell_type": "markdown",
      "metadata": {
        "id": "uUVXhUTS5MVn"
      },
      "source": [
        "\n",
        "## 1. Understanding Function-as-a-Service (FaaS)\n",
        "\n",
        "FaaS is a serverless execution model where applications are built as a collection of independent, stateless functions. These functions are triggered by events (e.g., an HTTP request, a new file in storage, a message in a queue), run their logic, and then shut down. You only pay for the execution time.\n",
        "\n"
      ]
    },
    {
      "cell_type": "markdown",
      "metadata": {
        "id": "BcyOT7hA5X4U"
      },
      "source": [
        "### A Typical FaaS (e.g., AWS Lambda) API\n",
        "\n",
        "In many FaaS platforms like AWS Lambda, a function typically accepts two arguments:\n",
        "* `event`: A JSON-formatted document (Python dictionary) containing data for the function to process.\n",
        "* `context`: An object providing runtime information about the invocation, function, and execution environment.\n",
        "\n",
        "The function then returns a value, often a JSON-formatted document as `dict`.\n"
      ]
    },
    {
      "cell_type": "markdown",
      "metadata": {
        "id": "h9EaiWhM5Yzm"
      },
      "source": [
        "\n",
        "### FaaS Example: A Simple Visitor Counter\n",
        "\n",
        "Let's imagine we want to count website visitors.\n",
        "\n",
        "**Attempt 1: Basic FaaS function (Conceptual)**"
      ]
    },
    {
      "cell_type": "code",
      "execution_count": 1,
      "metadata": {
        "id": "LO2bUKF73Cc3"
      },
      "outputs": [
        {
          "name": "stdout",
          "output_type": "stream",
          "text": [
            "User user123 visited. Total visits (this invocation instance): 1\n"
          ]
        },
        {
          "data": {
            "text/plain": [
              "{'statusCode': 200,\n",
              " 'body': 'Hello user user123! This is visit number 1 (for this instance).'}"
            ]
          },
          "execution_count": 1,
          "metadata": {},
          "output_type": "execute_result"
        }
      ],
      "source": [
        "# A simple in-memory counter (will not work for persistent state in FaaS)\n",
        "visit_count = 0\n",
        "\n",
        "def lambda_handler(event, context):\n",
        "    global visit_count\n",
        "    visit_count += 1\n",
        "\n",
        "    # 'user_id' might come from the event payload\n",
        "    user_id = event.get(\"user_id\", \"anonymous\")\n",
        "\n",
        "    print(f\"User {user_id} visited. Total visits (this invocation instance): {visit_count}\")\n",
        "\n",
        "    return {\n",
        "        \"statusCode\": 200,\n",
        "        \"body\": f\"Hello user {user_id}! This is visit number {visit_count} (for this instance).\"\n",
        "    }\n",
        "\n",
        "# Example invocation:\n",
        "event_data = {\"user_id\": \"user123\"}\n",
        "lambda_handler(event_data, None)"
      ]
    },
    {
      "cell_type": "markdown",
      "metadata": {
        "id": "DacDXi9G3Cc4"
      },
      "source": [
        "**The Problem:** The `visit_count` above is stored in the memory of the function's execution environment. FaaS functions are often stateless, meaning each invocation might run in a fresh environment, or an environment might be reused for a short period but then discarded. Thus, this counter would not be reliable across different users or over time.\n",
        "\n",
        "\n"
      ]
    },
    {
      "cell_type": "markdown",
      "metadata": {
        "id": "9FO7eQGR4yGA"
      },
      "source": [
        "\n",
        "### State Management in FaaS\n",
        "\n",
        "Since functions are stateless, any data that needs to persist beyond a single invocation must be stored externally. Common solutions include databases (like Amazon DynamoDB, RDS), in-memory caches (like Redis, Memcached), or object storage (like Amazon S3).\n",
        "\n",
        "**FaaS Example: Visitor Counter with External State (Conceptual - S3)**\n",
        "\n",
        "Let's make our counter persist by using an external storage service (conceptually, like AWS S3 or a simple key-value store)."
      ]
    },
    {
      "cell_type": "code",
      "execution_count": 2,
      "metadata": {
        "id": "b_pRI6CD3Cc5"
      },
      "outputs": [],
      "source": [
        "# Assume 's3_client' is initialized and configured (e.g., using Boto3 for AWS S3)\n",
        "# For simplicity, let's mock its behavior.\n",
        "class MockS3Client:\n",
        "    def __init__(self):\n",
        "        self._storage = {} # Simulates S3 bucket\n",
        "\n",
        "    def get_object(self, bucket, key):\n",
        "        if key in self._storage:\n",
        "            return {\"Body\": str(self._storage[key])} # S3 returns a stream, an int for simplicity\n",
        "        raise FileNotFoundError # Or appropriate S3 error\n",
        "\n",
        "    def put_object(self, bucket, key, body):\n",
        "        self._storage[key] = body\n",
        "        print(f\"S3 Mock: Stored {body} at {key}\")\n",
        "\n",
        "s3_client = MockS3Client() # In a real scenario, this would be an actual S3 client.\n",
        "COUNTER_BUCKET = \"my-visitor-counts\"\n",
        "COUNTER_KEY = \"site_visitor_count.txt\"\n",
        "\n",
        "def lambda_handler_persistent(event, context):\n",
        "    current_count = 0\n",
        "    try:\n",
        "        response = s3_client.get_object(Bucket=COUNTER_BUCKET, Key=COUNTER_KEY)\n",
        "        current_count = int(response['Body']) # Read and parse current count\n",
        "    except FileNotFoundError: # Or specific S3 \"NoSuchKey\" error\n",
        "        print(\"Counter file not found, initializing to 0.\")\n",
        "        current_count = 0\n",
        "    except Exception as e:\n",
        "        print(f\"Error reading from S3: {e}\")\n",
        "        # Handle error, maybe return an error response\n",
        "\n",
        "    current_count += 1\n",
        "\n",
        "    try:\n",
        "        s3_client.put_object(Bucket=COUNTER_BUCKET, Key=COUNTER_KEY, Body=str(current_count))\n",
        "    except Exception as e:\n",
        "        print(f\"Error writing to S3: {e}\")\n",
        "        # Handle error\n",
        "\n",
        "    user_id = event.get(\"user_id\", \"anonymous\")\n",
        "\n",
        "    return {\n",
        "        \"statusCode\": 200,\n",
        "        \"body\": f\"Hello user {user_id}! You are visitor number {current_count}.\"\n",
        "    }\n",
        "\n",
        "# Example invocation:\n",
        "# event_data = {\"user_id\": \"user456\"}\n",
        "# print(lambda_handler_persistent(event_data, None))\n",
        "# print(lambda_handler_persistent(event_data, None)) # Call again to see increment"
      ]
    },
    {
      "cell_type": "markdown",
      "metadata": {
        "id": "R0xCMoyi3Cc5"
      },
      "source": [
        "\n",
        "\n",
        "### Function-to-Function Calls and Orchestration\n",
        "\n",
        "Often, a task requires multiple FaaS functions to work together.\n",
        "* **Direct Invocation:** One function can directly (synchronously or asynchronously) invoke another. This can create tight coupling and complex dependency graphs.\n",
        "* **Queues/Streams:** Functions can communicate via message queues (like SQS) or streams (like Kinesis) for more decoupled architectures.\n",
        "* **Orchestration Services:** Services like AWS Step Functions help manage complex workflows involving multiple functions.\n",
        "\n",
        "**FaaS Example: Order Processing (Conceptual)**\n",
        "\n",
        "Imagine an e-commerce order:\n",
        "1.  `place_order_function`: Receives order, validates it, stores it, then triggers payment.\n",
        "2.  `process_payment_function`: Processes payment, then triggers inventory update.\n",
        "3.  `update_inventory_function`: Updates inventory, then triggers shipping."
      ]
    },
    {
      "cell_type": "code",
      "execution_count": 3,
      "metadata": {
        "id": "QQvI3eZ83Cc6"
      },
      "outputs": [],
      "source": [
        "# Assume 'lambda_client' for invoking other Lambda functions\n",
        "class MockLambdaClient:\n",
        "    def invoke(self, function_name, payload):\n",
        "        print(f\"MockLambda: Invoking {function_name} with payload: {payload}\")\n",
        "        # In reality, this would call another Lambda and get its response.\n",
        "        # For simplicity, we'll just print and simulate a success.\n",
        "        if function_name == \"process_payment_function\":\n",
        "            return {\"status\": \"payment_successful\", \"payment_id\": \"pid_123\"}\n",
        "        elif function_name == \"update_inventory_function\":\n",
        "            return {\"status\": \"inventory_updated\", \"items_deducted\": payload.get(\"items\", [])}\n",
        "        return {\"status\": \"invoked\"}\n",
        "\n",
        "lambda_client = MockLambdaClient()\n",
        "\n",
        "def place_order_function(event, context):\n",
        "    order_details = event.get(\"order\")\n",
        "    print(f\"Placing order: {order_details}\")\n",
        "    # ... validate order, store in database (external state) ...\n",
        "\n",
        "    # Trigger payment function\n",
        "    payment_payload = {\"order_id\": order_details[\"id\"], \"amount\": order_details[\"total\"]}\n",
        "    payment_response = lambda_client.invoke(\n",
        "        function_name=\"process_payment_function\",\n",
        "        payload=payment_payload\n",
        "    )\n",
        "\n",
        "    if payment_response.get(\"status\") == \"payment_successful\":\n",
        "        print(\"Payment successful, now updating inventory.\")\n",
        "        # This becomes complex if you need to pass state or manage failures\n",
        "        # In a real app, you might use Step Functions here or a queue.\n",
        "        inventory_payload = {\"order_id\": order_details[\"id\"], \"items\": order_details[\"items\"]}\n",
        "        lambda_client.invoke(\n",
        "            function_name=\"update_inventory_function\",\n",
        "            payload=inventory_payload\n",
        "        )\n",
        "\n",
        "    return {\"status\": \"order_placed\", \"order_id\": order_details[\"id\"]}\n",
        "\n",
        "def process_payment_function(event, context):\n",
        "    # ... process payment using event.get(\"order_id\") and event.get(\"amount\") ...\n",
        "    print(f\"Processing payment for order: {event.get('order_id')}\")\n",
        "    # Calls external payment gateway\n",
        "    return {\"status\": \"payment_successful\", \"payment_id\": f\"pid_{event.get('order_id')}\"}\n",
        "\n",
        "def update_inventory_function(event, context):\n",
        "    # ... update inventory in database (external state) ...\n",
        "    print(f\"Updating inventory for order: {event.get('order_id')}\")\n",
        "    return {\"status\": \"inventory_updated\", \"items_deducted\": event.get(\"items\", [])}\n",
        "\n",
        "# Example invocation:\n",
        "# order_data = {\"order\": {\"id\": \"ord789\", \"total\": 99.99, \"items\": [\"itemA\", \"itemB\"]}}\n",
        "# place_order_function(order_data, None)"
      ]
    },
    {
      "cell_type": "markdown",
      "metadata": {
        "id": "ZYsSnWrU3Cc6"
      },
      "source": [
        "Managing the flow, error handling, and state across these functions can become complex.\n",
        "\n",
        "---\n",
        "\n",
        "## 3. Introduction to Object-as-a-Service (OaaS)\n",
        "\n",
        "OaaS is an architectural paradigm that aims to simplify serverless development by treating **objects** as the fundamental unit of computation and deployment, rather than stateless functions. You can use OaaS by importing and using the `oaas-sdk2-py` library in Python.\n",
        "\n",
        "Note: The SDK supports both async and sync methods. This tutorial uses synchronous methods for readability together with `mock_mode=True` for local, dependency-free runs."
      ]
    },
    {
      "cell_type": "markdown",
      "metadata": {
        "id": "QE6haFew46Aj"
      },
      "source": [
        "### Core Idea\n",
        "\n",
        "Instead of writing separate functions and managing their state externally, you define classes with methods and state. The OaaS platform handles the persistence and availability of these objects. When you invoke a method on an object, the platform ensures the object is loaded (with its state) and the method is executed.\n",
        "\n",
        "This model aligns closely with Object-Oriented Programming (OOP) principles, making it intuitive for many developers."
      ]
    },
    {
      "cell_type": "markdown",
      "metadata": {
        "id": "KhzMFFMk48lO"
      },
      "source": [
        "\n",
        "\n",
        "### Key API Concepts of OaaS (with `oaas-sdk2-py`)\n",
        "\n",
        "- Global `oaas` service: the entry point for decorators, server/agent control, and configuration.\n",
        "- `OaasObject`: base class providing automatic state management from type-annotated fields.\n",
        "- Decorators:\n",
        "  - `@oaas.service(name, package=\"default\")` to register a class as a service\n",
        "  - `@oaas.method(...)` to expose methods as RPC endpoints (with timeouts/retries/agent options)\n",
        "  - `@oaas.function(...)` for stateless functions on the class\n",
        "  - `@oaas.constructor(...)` for custom initialization run by `create()`\n",
        "  - Optional accessors: `@oaas.getter`, `@oaas.setter` for typed field reads/writes that aren’t exported as RPC\n",
        "- Typed state: any type-annotated attribute on the class becomes persisted automatically (no manual `get_data`/`set_data`).\n",
        "<!-- - Identity-based service references: annotate a field with another service type (e.g., `Profile | None`) to persist references by identity. You can assign a live instance, its proxy via `as_ref()`, or an explicit `ref(cls_id, obj_id, partition_id=0)`; calls on the proxy forward RPCs, while accessors read/write directly. -->\n",
        "- Lifecycle helpers: `MyService.create(obj_id=...)` and `MyService.load(obj_id)` for instance management.\n",
        "- Configuration: create an `OaasConfig` and call `oaas.configure(config)`; support for `mock_mode`, `async_mode`, partitions, etc.\n"
      ]
    },
    {
      "cell_type": "markdown",
      "metadata": {
        "id": "otfUb89l4_zl"
      },
      "source": [
        "\n",
        "## 4. OaaS Example: Visitor Counter Revisited\n",
        "\n",
        "Let's build the visitor counter using OaaS."
      ]
    },
    {
      "cell_type": "code",
      "execution_count": 4,
      "metadata": {
        "colab": {
          "base_uri": "https://localhost:8080/",
          "height": 383
        },
        "collapsed": true,
        "id": "xdBs21zD3Cc6",
        "outputId": "bfcd013e-47c7-4480-a34a-b653c80b1e5f"
      },
      "outputs": [
        {
          "name": "stdout",
          "output_type": "stream",
          "text": [
            "Hello user userA! You are visitor number 1.\n",
            "Hello user userB! You are visitor number 2.\n",
            "Current count: 2\n"
          ]
        }
      ],
      "source": [
        "from oaas_sdk2_py import oaas, OaasObject, OaasConfig\n",
        "\n",
        "# Configure (optional)\n",
        "config = OaasConfig(mock_mode=True, async_mode=False)  # use mock mode for local/tutorial usage\n",
        "oaas.configure(config)\n",
        "\n",
        "@oaas.service(\"VisitorCounter\", package=\"examples\")\n",
        "class Counter(OaasObject):\n",
        "    count: int = 0  # typed state is persisted automatically\n",
        "\n",
        "    @oaas.method()\n",
        "    def increment(self, user_id: str = \"anonymous\") -> str:\n",
        "        self.count += 1\n",
        "        return f\"Hello user {user_id}! You are visitor number {self.count}.\"\n",
        "\n",
        "    @oaas.getter()\n",
        "    def get_count(self) -> int:\n",
        "        return self.count\n",
        "\n",
        "# Create/load and call methods\n",
        "counter = Counter.create(obj_id=1)\n",
        "print(counter.increment(\"userA\"))\n",
        "print(counter.increment(\"userB\"))\n",
        "print(\"Current count:\", counter.get_count())\n",
        "\n",
        "# Tip: for relationships between services, annotate fields with service types to store references by identity.\n",
        "# See the Object Interaction example below for a concrete usage."
      ]
    },
    {
      "cell_type": "markdown",
      "metadata": {
        "id": "Un8BPBx7vNfG"
      },
      "source": [
        "State is now managed via typed attributes on the class (e.g., `count: int = 0`), so you don’t need manual `get_data()`/`set_data()` in most cases."
      ]
    },
    {
      "cell_type": "markdown",
      "metadata": {
        "id": "6TjxZKGPuY0D"
      },
      "source": [
        "### How you interact with your object\n",
        "This part is illustrative of how you can use your class.\n",
        "Actual object creation/loading in a live OaaS environment can use `oaas` API directly. For local usage in this tutorial, we configure `mock_mode=True` via `OaasConfig` so everything runs in-memory without external services."
      ]
    },
    {
      "cell_type": "code",
      "execution_count": 5,
      "metadata": {
        "id": "uxZ41tvNuTq5"
      },
      "outputs": [
        {
          "name": "stdout",
          "output_type": "stream",
          "text": [
            "Hello user userC! You are visitor number 1.\n",
            "Final count: 1\n"
          ]
        }
      ],
      "source": [
        "# Local/mock usage: create or load by id and call methods\n",
        "counter = Counter.create(obj_id=1)\n",
        "print(counter.increment(\"userC\"))\n",
        "print(\"Final count:\", counter.get_count())"
      ]
    },
    {
      "cell_type": "markdown",
      "metadata": {
        "id": "Ev5yUC2i3Cc7"
      },
      "source": [
        "\n",
        "\n",
        "---\n"
      ]
    },
    {
      "cell_type": "markdown",
      "metadata": {
        "id": "VZs3_gdo57N2"
      },
      "source": [
        "\n",
        "## 5. OaaS Example: Object Interaction (Function-to-Function Call Equivalent)\n",
        "\n",
        "In OaaS, instead of \"function-to-function\" calls, you typically have \"object-to-object\" method invocations. Objects can hold typed references to other services (persisted by identity) and call their methods through proxies.\n",
        "\n",
        "Let's extend our example: a `UserManager` object that, when a user logs in, also increments a global `SessionCounter` object."
      ]
    },
    {
      "cell_type": "code",
      "execution_count": 10,
      "metadata": {
        "id": "H8muRtSF3Cc7"
      },
      "outputs": [
        {
          "name": "stderr",
          "output_type": "stream",
          "text": [
            "INFO:oaas_sdk:Service SessionCounter successfully registered\n",
            "INFO:oaas_sdk:Service UserManager successfully registered\n"
          ]
        },
        {
          "name": "stdout",
          "output_type": "stream",
          "text": [
            "UserManager: User Alice attempting to log in.\n",
            "SessionCounter: Active sessions now 1\n",
            "User Alice logged in successfully.\n",
            "UserManager: User Bob attempting to log in.\n",
            "SessionCounter: Active sessions now 2\n",
            "User Bob logged in successfully.\n",
            "Final session count: 2\n"
          ]
        }
      ],
      "source": [
        "@oaas.service(\"SessionCounter\", package=\"examples\")\n",
        "class SessionCounter(OaasObject):\n",
        "    count: int = 0\n",
        "\n",
        "    @oaas.method()\n",
        "    def increment_sessions(self) -> int:\n",
        "        self.count += 1\n",
        "        print(f\"SessionCounter: Active sessions now {self.count}\")\n",
        "        return self.count\n",
        "\n",
        "    @oaas.getter()\n",
        "    def get_count(self) -> int:\n",
        "        return self.count\n",
        "\n",
        "@oaas.service(\"UserManager\", package=\"examples\")\n",
        "class UserManager(OaasObject):\n",
        "    # Identity-based reference to another service; persisted by identity\n",
        "    session_counter: SessionCounter  = None\n",
        "\n",
        "    @oaas.method()\n",
        "    def login_user(self, user_id: str) -> str:\n",
        "        print(f\"UserManager: User {user_id} attempting to log in.\")\n",
        "        if self.session_counter is not None:\n",
        "            # proxy calls forward via RPC; accessors would do direct IO\n",
        "            self.session_counter.increment_sessions()\n",
        "        return f\"User {user_id} logged in successfully.\"\n",
        "\n",
        "# Create objects and wire them via identity-based reference\n",
        "global_counter = SessionCounter.create(obj_id=100)\n",
        "user_mgr = UserManager.create(obj_id=200)\n",
        "\n",
        "user_mgr.session_counter = global_counter\n",
        "print(user_mgr.login_user(\"Alice\"))\n",
        "print(user_mgr.login_user(\"Bob\"))\n",
        "print(\"Final session count:\", global_counter.get_count())"
      ]
    },
    {
      "cell_type": "markdown",
      "metadata": {
        "id": "t8MxZV1r3Cc8"
      },
      "source": [
        "In OaaS, the `UserManager` object can directly call methods on the `SessionCounter` object. If these objects are managed by the OaaS platform, this interaction becomes a seamless RPC handled by the SDK. With identity-based references, you can persist a typed field pointing to another service and obtain a lightweight `ObjectRef` proxy: normal `@oaas.method` calls go over RPC, and accessors (`@oaas.getter/@oaas.setter`) perform direct persisted IO. This removes manual service discovery and request wiring."
      ]
    },
    {
      "cell_type": "markdown",
      "metadata": {
        "id": "Byd1-6b4QQ-4"
      },
      "source": [
        "## 7. Practical Example\n",
        "### **Real-Time Parking Lot Occupancy Counter & Reservation System**\n"
      ]
    },
    {
      "cell_type": "markdown",
      "metadata": {
        "id": "oaBh5K0boMrp"
      },
      "source": [
        "\n",
        "#### **7.1\\. Scenario Description**\n",
        "\n",
        "Design a system to monitor and manage the real-time occupancy of a parking lot. The lot is equipped with simple, individual parking sensors for each spot that report whether a spot is `occupied` or `vacant`. When a driver reserves a spot, a signal light on the spot must be turned on to indicate its reserved status. The system needs to provide a real-time count of available spots and allow drivers to reserve a spot via a mobile app.\n"
      ]
    },
    {
      "cell_type": "markdown",
      "metadata": {
        "id": "zdNNRJ4QoQlb"
      },
      "source": [
        "\n",
        "#### **7.2\\. Core Requirements**\n",
        "\n",
        "1. **Real-Time Status:** Each sensor periodically reports its status (`occupied` or `vacant`) to the system via an MQTT message.  \n",
        "2. **Spot Reservation:** A driver can request to reserve a single parking spot. The system should assign them a vacant spot and update its status to `reserved`.  \n",
        "3. **Device Communication:** Upon successful reservation, the system must send an MQTT message to the specific parking spot's device to turn on its signal light.  \n",
        "4. **Dynamic Management:** The system must be able to add or remove parking spots dynamically as the physical lot configuration changes.  \n",
        "5. **Availability Query:** A user can query the system at any time to get the total number of available (i.e., `vacant`) spots.  \n",
        "6. **State Tracking:** The system must keep track of the status of each individual spot (`vacant`, `occupied`, `reserved`)."
      ]
    },
    {
      "cell_type": "markdown",
      "metadata": {
        "id": "tr2cIZW0RV2Z"
      },
      "source": [
        "### **7.3. FaaS (Function-as-a-Service) Approach**\n"
      ]
    },
    {
      "cell_type": "markdown",
      "metadata": {
        "id": "HTC8jggaoVyQ"
      },
      "source": [
        "\n",
        "#### **Design**\n",
        "\n",
        "In the FaaS model, the logic is broken down into small, stateless functions. Since functions don't maintain memory between invocations, an external database (or a key-value store) is required to manage the state of the parking lot and its spots. Communication with devices is handled by publishing messages to an MQTT broker.\n",
        "\n",
        "* **`handle_spot_update`**: Triggered by an MQTT message from a sensor. It updates the status of a specific spot in the database.  \n",
        "* **`reserve_spot`**: Triggered by an API call from a user's app. It scans the database to find a `vacant` spot, changes its status to `reserved`, publishes an MQTT message to the device to turn on its light, and returns the spot's ID.  \n",
        "* **`get_available_count`**: Triggered by an API call. It queries the database for all spots and counts how many are `vacant`.  \n",
        "* **`add_spot` / `remove_spot`**: Administrative functions that update the master list of spots in the database."
      ]
    },
    {
      "cell_type": "markdown",
      "metadata": {
        "id": "jQYMWNT8sI9c"
      },
      "source": [
        "![faas](diagrams/example_parking_faas.png)"
      ]
    },
    {
      "cell_type": "markdown",
      "metadata": {
        "id": "HR1YF-sBh_Lr"
      },
      "source": [
        "\n",
        "#### **Code Implementation**"
      ]
    },
    {
      "cell_type": "code",
      "execution_count": 7,
      "metadata": {
        "colab": {
          "base_uri": "https://localhost:8080/"
        },
        "id": "XXt6z5W-RWfa",
        "outputId": "4e810cf1-5c84-4fb2-9b79-143993fecc13"
      },
      "outputs": [
        {
          "name": "stdout",
          "output_type": "stream",
          "text": [
            "MockKeyValueStore: Initialized for FaaS using a dictionary.\n"
          ]
        }
      ],
      "source": [
        "from typing import Dict, List, Optional\n",
        "import json\n",
        "\n",
        "# --- Mock Infrastructure for FaaS ---\n",
        "class MockKeyValueStore:\n",
        "    \"\"\"\n",
        "    A mock in-memory key-value store to simulate the external database\n",
        "    that stateless FaaS functions rely on. It now uses a dictionary as the primary store.\n",
        "    \"\"\"\n",
        "    def __init__(self):\n",
        "        self._data: Dict[str, str] = {}\n",
        "        print(\"MockKeyValueStore: Initialized for FaaS using a dictionary.\")\n",
        "\n",
        "    def get(self, key: str) -> Optional[any]:\n",
        "        return self._data.get(key)\n",
        "\n",
        "    def set(self, key: str, value: any):\n",
        "        self._data[key] = value\n",
        "\n",
        "    def delete(self, key: str):\n",
        "        if key in self._data:\n",
        "            del self._data[key]\n",
        "\n",
        "    def get_all_spot_ids(self) -> List[str]:\n",
        "        \"\"\"Helper method to retrieve all spot IDs from the dictionary keys.\"\"\"\n",
        "        return [key for key in self._data.keys()]\n",
        "\n",
        "\n",
        "class MockMqttClient:\n",
        "    \"\"\"\n",
        "    A mock MQTT client to simulate publishing messages to device topics.\n",
        "    \"\"\"\n",
        "    def publish(self, topic: str, payload: str):\n",
        "        print(f\"MockMqttClient: Publishing to topic '{topic}' with payload: {payload}\")\n",
        "\n",
        "# --- FaaS Function Definitions ---\n",
        "\n",
        "db = MockKeyValueStore()\n",
        "mqtt_client = MockMqttClient()\n",
        "\n",
        "def faas_add_spot(event: dict, context: object):\n",
        "    \"\"\"FaaS Function: Adds a new parking spot to the system.\"\"\"\n",
        "    spot_id = event['spot_id']\n",
        "    print(f\"FaaS.add_spot: Adding spot '{spot_id}'.\")\n",
        "    db.set(f\"spot:{spot_id}\", \"vacant\")\n",
        "    return {\"status\": \"success\", \"spot_id\": spot_id}\n",
        "\n",
        "def faas_remove_spot(event: dict, context: object):\n",
        "    \"\"\"FaaS Function: Removes a parking spot from the system.\"\"\"\n",
        "    spot_id = event['spot_id']\n",
        "    print(f\"FaaS.remove_spot: Removing spot '{spot_id}'.\")\n",
        "    db.delete(f\"spot:{spot_id}\")\n",
        "    return {\"status\": \"success\", \"spot_id\": spot_id}\n",
        "\n",
        "\n",
        "def faas_handle_spot_update(event: dict, context: object):\n",
        "    \"\"\"\n",
        "    FaaS Function: Triggered by a sensor update (e.g., via MQTT).\n",
        "    Updates the status of a single spot.\n",
        "    \"\"\"\n",
        "    spot_id = event['spot_id']\n",
        "    new_status = event['new_status']\n",
        "    print(f\"FaaS.handle_spot_update: Sensor reports spot '{spot_id}' is now '{new_status}'.\")\n",
        "    db.set(f\"spot:{spot_id}\", new_status)\n",
        "    return {\"status\": \"success\"}\n",
        "\n",
        "\n",
        "def faas_reserve_spot(event: dict, context: object) -> Optional[str]:\n",
        "    \"\"\"\n",
        "    FaaS Function: Triggered by a user request. Finds a vacant spot,\n",
        "    reserves it, publishes an MQTT command, and returns the spot ID.\n",
        "    \"\"\"\n",
        "    user_id = event['user_id']\n",
        "    print(f\"FaaS.reserve_spot: User '{user_id}' requests a reservation.\")\n",
        "    all_spots = db.get_all_spot_ids()\n",
        "    if not all_spots:\n",
        "        return {\"spot_id\": None}\n",
        "\n",
        "    for spot_key in all_spots:\n",
        "        spot_status = db.get(spot_key)\n",
        "        if spot_status == \"vacant\":\n",
        "            db.set(spot_key, \"reserved\")\n",
        "            spot_id = spot_key.split(':')[1]\n",
        "            print(f\"FaaS.reserve_spot: Reserved '{spot_id}' for user '{user_id}'.\")\n",
        "\n",
        "            # Publish MQTT message to turn on the signal light for the device\n",
        "            topic = f\"parking/lot-A/spot-{spot_id}/command\"\n",
        "            payload = json.dumps({\"command\": \"turn_on_light\"})\n",
        "            mqtt_client.publish(topic, payload)\n",
        "\n",
        "            return {\"spot_id\": spot_id}\n",
        "    print(\"FaaS.reserve_spot: No vacant spots were found.\")\n",
        "    return {\"spot_id\": None}\n",
        "\n",
        "def faas_get_available_count(event: dict, context: object) -> int:\n",
        "    \"\"\"\n",
        "    FaaS Function: Triggered by a user request.\n",
        "    Counts and returns the number of vacant spots.\n",
        "    \"\"\"\n",
        "    count = 0\n",
        "    all_spot_keys = db.get_all_spot_ids()\n",
        "    if all_spot_keys:\n",
        "        for spot_key in all_spot_keys:\n",
        "            if db.get(spot_key) == \"vacant\":\n",
        "                count += 1\n",
        "    print(f\"FaaS.get_available_count: Found {count} available spots.\")\n",
        "    return {\"available_spots\": count}"
      ]
    },
    {
      "cell_type": "code",
      "execution_count": 8,
      "metadata": {
        "id": "xoJ0NJJRW9Cr"
      },
      "outputs": [
        {
          "name": "stdout",
          "output_type": "stream",
          "text": [
            "--- DEMONSTRATING FaaS APPROACH ---\n",
            "FaaS.add_spot: Adding spot 'A1'.\n",
            "FaaS.add_spot: Adding spot 'A2'.\n",
            "FaaS.add_spot: Adding spot 'A3'.\n",
            "FaaS.get_available_count: Found 3 available spots.\n",
            "FaaS.reserve_spot: User 'user-123' requests a reservation.\n",
            "FaaS.reserve_spot: Reserved 'A1' for user 'user-123'.\n",
            "MockMqttClient: Publishing to topic 'parking/lot-A/spot-A1/command' with payload: {\"command\": \"turn_on_light\"}\n",
            "FaaS Main: Reservation successful for spot: A1\n",
            "FaaS.handle_spot_update: Sensor reports spot 'spot:A1' is now 'occupied'.\n",
            "FaaS.get_available_count: Found 2 available spots.\n"
          ]
        }
      ],
      "source": [
        "\n",
        "def demonstrate_faas_approach():\n",
        "    \"\"\"Runs a sequence of operations using the FaaS implementation.\"\"\"\n",
        "    print(\"--- DEMONSTRATING FaaS APPROACH ---\")\n",
        "    faas_add_spot({\"spot_id\": \"A1\"}, None)\n",
        "    faas_add_spot({\"spot_id\": \"A2\"}, None)\n",
        "    faas_add_spot({\"spot_id\": \"A3\"}, None)\n",
        "\n",
        "    faas_get_available_count({}, None)\n",
        "\n",
        "    response = faas_reserve_spot({\"user_id\": \"user-123\"}, None)\n",
        "    reserved_spot_id = response.get('spot_id')\n",
        "    print(f\"FaaS Main: Reservation successful for spot: {reserved_spot_id}\")\n",
        "\n",
        "    if reserved_spot_id:\n",
        "        faas_handle_spot_update({\"spot_id\": f\"spot:{reserved_spot_id}\", \"new_status\": \"occupied\"}, None)\n",
        "\n",
        "    faas_get_available_count({}, None)\n",
        "\n",
        "demonstrate_faas_approach()"
      ]
    },
    {
      "cell_type": "markdown",
      "metadata": {
        "id": "2cWL6ereRTq7"
      },
      "source": [
        "### **7.4. OaaS (Object-as-a-Service) Approach**\n",
        "\n"
      ]
    },
    {
      "cell_type": "markdown",
      "metadata": {
        "id": "H_x-oe0FobtD"
      },
      "source": [
        "#### **Design**\n",
        "\n",
        "In the OaaS model, we create stateful objects that directly represent the real-world entities. The state is encapsulated within the objects themselves, and the logic is implemented as methods on these objects. This eliminates the need for a separate, external database for managing application state.\n",
        "\n",
        "* **`ParkingSpot` Class**: A stateful object representing a single spot.  \n",
        "  * **State**: `status` (e.g., 'vacant', 'occupied', 'reserved'), `spot_id`.  \n",
        "  * **Methods**: `update_status()`, `get_status()`, `reserve()`, `turn_light()`.  \n",
        "* **`ParkingLot` Class**: A stateful object that manages the entire lot.  \n",
        "  * **State**: A list of `ParkingSpot` object instances.  \n",
        "  * **Methods**: `add_spot()`, `remove_spot()`, `reserve_spot()`, `get_available_count()`.\n",
        "\n",
        "The `ParkingLot` object directly calls methods on the `ParkingSpot` objects it contains, including the method to turn on the light, creating a clear and intuitive object-oriented model."
      ]
    },
    {
      "cell_type": "markdown",
      "metadata": {
        "id": "ES18lj84wy8j"
      },
      "source": [
        "![oaas](diagrams/example_parking_oaas.png)"
      ]
    },
    {
      "cell_type": "markdown",
      "metadata": {
        "id": "0ZNej0jIiH3x"
      },
      "source": [
        "\n",
        "#### **Code Implementation**"
      ]
    },
    {
      "cell_type": "code",
      "execution_count": 11,
      "metadata": {},
      "outputs": [
        {
          "name": "stderr",
          "output_type": "stream",
          "text": [
            "INFO:oaas_sdk:Service ParkingSpot successfully registered\n",
            "INFO:oaas_sdk:Service ParkingLot successfully registered\n"
          ]
        },
        {
          "name": "stdout",
          "output_type": "stream",
          "text": [
            "OaaS.ParkingLot: Added spot by object 'id-101' -> obj_id=101\n",
            "OaaS.ParkingLot: Added spot by object 'id-102' -> obj_id=102\n",
            "OaaS.ParkingLot: Added spot by object 'id-103' -> obj_id=103\n",
            "Available before: 2\n",
            "OaaS.ParkingSpot 'A1': Has been successfully reserved.\n",
            "OaaS.ParkingSpot 'A1': Command sent to TURN ON LIGHT.\n",
            "OaaS.ParkingLot: Reserved spot 'id-101' for user 'user-1'\n",
            "Reserved: id-101\n",
            "Available after: 1\n"
          ]
        }
      ],
      "source": [
        "from typing import Optional\n",
        "from oaas_sdk2_py import oaas, OaasObject, OaasConfig\n",
        "\n",
        "# Ensure mock mode for local/tutorial usage\n",
        "oaas.configure(OaasConfig(mock_mode=True, async_mode=False))\n",
        "\n",
        "@oaas.service(\"ParkingSpot\", package=\"parking\")\n",
        "class ParkingSpot(OaasObject):\n",
        "    spot_name: str\n",
        "    status: str = \"vacant\"  # 'vacant' | 'occupied' | 'reserved'\n",
        "\n",
        "    @oaas.getter()\n",
        "    def get_status(self) -> str:\n",
        "        return self.status\n",
        "\n",
        "    @oaas.setter()\n",
        "    def set_status(self, new_status: str) -> str:\n",
        "        print(f\"OaaS.ParkingSpot '{self.spot_name}': Status changing to '{new_status}'.\")\n",
        "        self.status = new_status\n",
        "        return self.status\n",
        "\n",
        "    @oaas.method()\n",
        "    def reserve(self) -> bool:\n",
        "        if self.status == \"vacant\":\n",
        "            self.status = \"reserved\"\n",
        "            print(f\"OaaS.ParkingSpot '{self.spot_name}': Has been successfully reserved.\")\n",
        "            return True\n",
        "        print(f\"OaaS.ParkingSpot '{self.spot_name}': Cannot reserve because status is '{self.status}'.\")\n",
        "        return False\n",
        "\n",
        "    @oaas.method()\n",
        "    def set_light(self, on: bool) -> bool:\n",
        "        if on:\n",
        "            print(f\"OaaS.ParkingSpot '{self.spot_name}': Command sent to TURN ON LIGHT.\")\n",
        "        else:\n",
        "            print(f\"OaaS.ParkingSpot '{self.spot_name}': Command sent to TURN OFF LIGHT.\")\n",
        "        return True\n",
        "\n",
        "@oaas.service(\"ParkingLot\", package=\"parking\")\n",
        "class ParkingLot(OaasObject):\n",
        "    # Identity-based references to ParkingSpot services, keyed by logical spot_id\n",
        "    spots: dict[str, ParkingSpot] = {}\n",
        "\n",
        "    @oaas.method()\n",
        "    def add_spot(self, spot: ParkingSpot) -> bool:\n",
        "        # Using the object's identity; key by its spot_name for demo\n",
        "        obj_id = None\n",
        "        try:\n",
        "            obj_id = spot.meta.object_id  # instance path\n",
        "        except Exception:\n",
        "            try:\n",
        "                obj_id = spot.metadata.object_id  # proxy path\n",
        "            except Exception:\n",
        "                obj_id = None\n",
        "        sid = f\"id-{obj_id}\" if obj_id is not None else \"spot\"\n",
        "        self.spots[sid] = spot\n",
        "        print(f\"OaaS.ParkingLot: Added spot by object '{sid}' -> obj_id={obj_id if obj_id is not None else 'unknown'}\")\n",
        "        return True\n",
        "\n",
        "    @oaas.method()\n",
        "    def remove_spot(self, spot_id: str) -> bool:\n",
        "        if spot_id in self.spots:\n",
        "            del self.spots[spot_id]\n",
        "            print(f\"OaaS.ParkingLot: Removed spot '{spot_id}'\")\n",
        "            return True\n",
        "        print(f\"OaaS.ParkingLot: Spot '{spot_id}' not found\")\n",
        "        return False\n",
        "\n",
        "    @oaas.method()\n",
        "    def reserve_any(self, user_id: str) -> Optional[str]:\n",
        "        for sid, spot in self.spots.items():\n",
        "            if spot.get_status() == \"vacant\":\n",
        "                if spot.reserve():\n",
        "                    spot.set_light(True)\n",
        "                    print(f\"OaaS.ParkingLot: Reserved spot '{sid}' for user '{user_id}'\")\n",
        "                    return sid\n",
        "        print(\"OaaS.ParkingLot: No vacant spots available\")\n",
        "        return None\n",
        "\n",
        "    @oaas.method()\n",
        "    def get_available_count(self) -> int:\n",
        "        return sum(1 for s in self.spots.values() if s.get_status() == \"vacant\")\n",
        "\n",
        "# Example usage (mock mode)\n",
        "lot = ParkingLot.create(obj_id=1)\n",
        "\n",
        "# Create three ParkingSpot instances and register them in the lot\n",
        "s1 = ParkingSpot.create(obj_id=101) \n",
        "s1.spot_name = \"A1\"\n",
        "s1.set_status(\"vacant\")\n",
        "s2 = ParkingSpot.create(obj_id=102)\n",
        "s2.spot_name = \"A2\"\n",
        "s2.set_status(\"vacant\")\n",
        "s3 = ParkingSpot.create(obj_id=103)\n",
        "s3.spot_name = \"A3\"\n",
        "s3.set_status(\"occupied\")\n",
        "\n",
        "lot.add_spot(s1)\n",
        "lot.add_spot(s2)\n",
        "lot.add_spot(s3)\n",
        "\n",
        "print(\"Available before:\", lot.get_available_count())\n",
        "print(\"Reserved:\", lot.reserve_any(\"user-1\"))\n",
        "print(\"Available after:\", lot.get_available_count())\n"
      ]
    },
    {
      "cell_type": "markdown",
      "metadata": {
        "id": "TKtkxZXh6Ivi"
      },
      "source": [
        "\n",
        "<!-- ## 8. When to Consider OaaS\n",
        "\n",
        "OaaS can be particularly beneficial when:\n",
        "* Your application has many interacting components that need to maintain state.\n",
        "* You prefer an object-oriented approach to designing your serverless application.\n",
        "* You want to reduce the boilerplate for managing external state and inter-service communication for stateful entities.\n",
        "\n",
        "This tutorial has provided a conceptual overview. The `oaas-sdk2-py` offers features like a mocking framework for testing and asynchronous support to build robust applications. For more detailed examples of how to use the SDK, including its mocking framework for tests, you can refer to the `README.md` and the examples provided with the SDK. -->\n",
        "<!-- The SDK's core components are written in Rust for performance. -->"
      ]
    }
  ],
  "metadata": {
    "colab": {
      "provenance": [],
      "toc_visible": true
    },
    "kernelspec": {
      "display_name": "oaas-sdk-study",
      "language": "python",
      "name": "python3"
    },
    "language_info": {
      "codemirror_mode": {
        "name": "ipython",
        "version": 3
      },
      "file_extension": ".py",
      "mimetype": "text/x-python",
      "name": "python",
      "nbconvert_exporter": "python",
      "pygments_lexer": "ipython3",
      "version": "3.13.7"
    }
  },
  "nbformat": 4,
  "nbformat_minor": 0
}
