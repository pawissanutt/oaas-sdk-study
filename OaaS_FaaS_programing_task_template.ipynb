{
  "cells": [
    {
      "cell_type": "markdown",
      "metadata": {
        "id": "gk2z9lT-S7Xi"
      },
      "source": [
        "# Design and Programming Tasks"
      ]
    },
    {
      "cell_type": "markdown",
      "metadata": {
        "id": "Qy06coVDTqv-"
      },
      "source": [
        "You'll be assigned a fun task: design and outline a high-level implementation for both FaaS and OaaS approaches\\! Focus on defining key functions and essential components, like storage or message brokers for FaaS, and object methods or state for OaaS. No need for super detailed code; pseudocode or simple diagrams are totally fine to help illustrate your awesome ideas.\n",
        "\n",
        "For research purposes, we also need to track your time for each task. Please grab a **timer form** or [stopwatch](https://www.timeanddate.com/stopwatch/)—start it right after you finish reading this and click the “split” button to record the time after completing each task. When you’re done, just export the timings and pop them into the Post-Task Questionnaire Google form. Easy peasy\\!\n",
        "\n",
        "Once you've wrapped up your initial design, you'll get a new requirement that'll prompt you to consider how you might playfully modify your design to meet it."
      ]
    },
    {
      "cell_type": "markdown",
      "metadata": {
        "id": "7MFwaTD16dJU"
      },
      "source": [
        "### **Timing Instructions**\n",
        "\n",
        "Before you dive in, please get a [stopwatch](https://www.timeanddate.com/stopwatch/) ready. We need to track the time it takes for each part of the task for our research.\n",
        "\n",
        "* **Start the stopwatch** as soon as you finish reading the task description for the first time.  \n",
        "* For each approach (FaaS and OaaS):  \n",
        "  * First, create a **diagram** for your design. When you're done with the diagram, click the **\"split\" button** on your stopwatch.  \n",
        "  * Next, write the code. When you're done with the implementation, click the **\"split\" button** again.  \n",
        "* When you get to the **\"Time for a Change-Up\\!\"** section, click the **\"split\" button** right after you finish reading the new requirement for the task.  \n",
        "* For the maintainability task on each approach:  \n",
        "  * First, **update your diagram**. When you're done, click **\"split\"**.  \n",
        "  * Then, **update your code**. When you're done, click **\"split\"**.  \n",
        "* Once you've completed all parts of a task, you can **pause the stopwatch**.\n",
        "\n",
        "When you're all done, please export the timings and copy them into the Post-Task Questionnaire. Thanks\\!"
      ]
    },
    {
      "cell_type": "markdown",
      "metadata": {
        "id": "qYvJTvHFRgzK"
      },
      "source": [
        "In summary, the process for completing a task is outlined below. Feel free to start with either FaaS or OaaS first, giving you the flexibility to swap the order of stages 2 and 3, or stages 5 and 6, to best suit your preferences."
      ]
    },
    {
      "cell_type": "markdown",
      "metadata": {},
      "source": [
        "![Stopwatch flow](diagrams/stopwatch_flow.png)"
      ]
    },
    {
      "cell_type": "markdown",
      "metadata": {
        "id": "Ju5ZyQyWTCQr"
      },
      "source": [
        "##### **Diagram Designing**\n",
        "\n",
        "Feel free to use any software to create a diagram for your design\\! We've also provided a helpful [parking lot example](diagrams/example_parking.drawio) that you can use with [draw.io](http://draw.io) extension."
      ]
    },
    {
      "cell_type": "markdown",
      "metadata": {
        "id": "Wg_tDFtCPGsl"
      },
      "source": [
        "### **Handy Mock APIs**\n",
        "*(Here are some mock APIs for things like databases, messaging, and schedulers to help you build your solution.)*"
      ]
    },
    {
      "cell_type": "markdown",
      "metadata": {
        "id": "_pDVwGRsPPQr"
      },
      "source": [
        "#### **FaaS Mocks**"
      ]
    },
    {
      "cell_type": "code",
      "execution_count": null,
      "metadata": {
        "id": "w4JY7NaJPOpP"
      },
      "outputs": [],
      "source": [
        "# In-memory database\n",
        "class MockKeyValueStore:\n",
        "    def __init__(self):\n",
        "        self._data = {}\n",
        "\n",
        "    def get(self, key):\n",
        "        return self._data.get(key)\n",
        "\n",
        "    def set(self, key, value):\n",
        "        self._data[key] = value\n",
        "\n",
        "db = MockKeyValueStore()\n",
        "\n",
        "# MQTT Client\n",
        "class MockMqttClient:\n",
        "    def publish(self, topic, payload):\n",
        "        print(f\"MQTT client publishing to topic '{topic}' with payload: {payload}\")\n",
        "\n",
        "    def subscribe(self, topic, callback_function):\n",
        "        # Note: In a real FaaS environment, you would configure this subscription\n",
        "        # as a trigger for the function, not by calling a subscribe method in the code.\n",
        "        # This is for completeness of the mock API and does not reflect real use.\n",
        "        print(f\"MQTT client subscribing function '{callback_function.__name__}' to topic '{topic}'\")\n",
        "\n",
        "mqtt_client = MockMqttClient()\n",
        "\n",
        "# Schedulers\n",
        "class MockEventScheduler: # For Task 1\n",
        "    def set_trigger(self, func_name, args, cron_expr):\n",
        "        print(f\"Scheduling function '{func_name}' with cron expression '{cron_expr}' and args: {args}\")\n",
        "\n",
        "event_scheduler = MockEventScheduler()\n",
        "\n",
        "class MockScheduler: # For Task 2\n",
        "    def set_timer(self, func_name, args, time):\n",
        "        print(f\"Scheduling function '{func_name}' to run in {time} seconds with args: {args}\")\n",
        "\n",
        "scheduler = MockScheduler()\n",
        "\n",
        "# External API\n",
        "class MockWeatherAPI: # For Task 3\n",
        "    def get_rain_prediction(self, location):\n",
        "        # In a real scenario, this would make an API call.\n",
        "        # For this mock, we'll return a static value.\n",
        "        print(f\"Checking weather API for rain prediction at {location}\")\n",
        "        return {\"will_rain_in_6_hours\": False}\n",
        "\n",
        "weather_api = MockWeatherAPI()"
      ]
    },
    {
      "cell_type": "markdown",
      "metadata": {
        "id": "4hKbgmnUPUVp"
      },
      "source": [
        "#### **OaaS Mocks**"
      ]
    },
    {
      "cell_type": "code",
      "execution_count": null,
      "metadata": {
        "id": "KhZP-DkBPYKk"
      },
      "outputs": [],
      "source": [
        "# Schedulers\n",
        "class MockEventScheduler: # For Task 1\n",
        "    def set_trigger(self, obj, func, args, cron_expr):\n",
        "        print(f\"Scheduling method '{func.__name__}' on object '{obj.object_id()}' with cron expression '{cron_expr}' and args: {args}\")\n",
        "\n",
        "event_scheduler = MockEventScheduler()\n",
        "\n",
        "class MockScheduler: # For Task 2\n",
        "    def set_timer(self, obj, func, args, time):\n",
        "        print(f\"Scheduling method '{func.__name__}' on object '{obj.object_id()}' to run in {time} seconds with args: {args}\")\n",
        "\n",
        "scheduler = MockScheduler()\n",
        "\n",
        "# External API\n",
        "class MockWeatherAPI: # For Task 3\n",
        "    def get_rain_prediction(self, location):\n",
        "        # In a real scenario, this would make an API call.\n",
        "        # For this mock, we'll return a static value.\n",
        "        print(f\"Checking weather API for rain prediction at {location}\")\n",
        "        return {\"will_rain_in_6_hours\": False}\n",
        "\n",
        "weather_api = MockWeatherAPI()\n"
      ]
    },
    {
      "cell_type": "markdown",
      "metadata": {
        "id": "cuwow3WDG1b9"
      },
      "source": [
        "### **Task 1: Smart Thermostat Control System**"
      ]
    },
    {
      "cell_type": "markdown",
      "metadata": {
        "id": "cXDa2_2CEoaK"
      },
      "source": [
        "\n",
        "\n",
        "#### **The Lowdown**\n",
        "\n",
        "Your mission is to design a control system for a smart thermostat. The main goal is to keep a room at a target temperature set by the user by controlling the heating and cooling. The thermostat will periodically send its current temperature and humidity readings.\n",
        "\n",
        "#### **The Must-Haves**\n",
        "\n",
        "* The thermostat sends its sensor readings (temperature, humidity) to the system every 5 minutes.  \n",
        "* A user can set a new target temperature whenever they want.  \n",
        "* The system needs to be smart enough to decide when to turn the heat on, turn the cooling on, or just turn everything off.  \n",
        "* Users should be able to check the current temperature, humidity, target temperature, and what the system is doing (e.g., \"heating\", \"cooling\", \"idle\")."
      ]
    },
    {
      "cell_type": "markdown",
      "metadata": {
        "id": "UGNe6eXIEtBb"
      },
      "source": [
        "#### **The FaaS Approach**\n",
        "\n",
        "*(Psst\\! Just a friendly reminder to create your diagram first, and to keep your stopwatch running and hit \"split\" after you finish each part\\!)*"
      ]
    },
    {
      "cell_type": "code",
      "execution_count": 2,
      "metadata": {
        "id": "zA6tCoPsEy9E"
      },
      "outputs": [],
      "source": [
        "def handle_sensor_reading(event, context):\n",
        "    \"\"\"\n",
        "    Gets triggered by the thermostat's sensor readings.\n",
        "    It should update the current temperature and humidity.\n",
        "    \"\"\"\n",
        "    thermostat_id = event['thermostat_id']\n",
        "    temperature = event['temperature']\n",
        "    humidity = event['humidity']\n",
        "\n",
        "    # Your implementation here\n",
        "    pass\n",
        "\n",
        "    return {}\n",
        "\n",
        "def set_target_temperature(event, context):\n",
        "    \"\"\"\n",
        "    Gets triggered when a user sets a new target temperature.\n",
        "    \"\"\"\n",
        "    thermostat_id = event['thermostat_id']\n",
        "    target_temperature = event['target_temperature']\n",
        "\n",
        "    # Your implementation here\n",
        "    pass\n",
        "\n",
        "    return {}\n",
        "\n",
        "# You might need more functions to handle the other requirements!\n"
      ]
    },
    {
      "cell_type": "markdown",
      "metadata": {
        "id": "bCeuhnzDE19S"
      },
      "source": [
        "#### **The OaaS Approach**\n",
        "\n",
        "*(Psst\\! Just a friendly reminder to create your diagram first, and to keep your stopwatch running and hit \"split\" after you finish each part\\!)*"
      ]
    },
    {
      "cell_type": "markdown",
      "metadata": {},
      "source": [
        "Note: The OaaS scaffolds below use the simplified API (global `oaas`, `OaasObject`, typed fields, and decorators). See `docs/reference.md` for details."
      ]
    },
    {
      "cell_type": "code",
      "execution_count": null,
      "metadata": {
        "id": "zHsowBDSE4v4"
      },
      "outputs": [],
      "source": [
        "from typing import Optional\n",
        "from pydantic import BaseModel\n",
        "from oaas_sdk2_py import oaas, OaasObject, OaasConfig\n",
        "\n",
        "# Optional: configure mock for local thinking\n",
        "oaas.configure(OaasConfig( mock_mode=True))\n",
        "\n",
        "class AmbientReading(BaseModel):\n",
        "    temperature: float\n",
        "    humidity: float\n",
        "\n",
        "@oaas.service(\"Thermostat\", package=\"tasks\")\n",
        "class Thermostat(OaasObject):\n",
        "    # Typed, persisted state\n",
        "    current_temp: float = 0.0\n",
        "    current_humidity: float = 0.0\n",
        "    target_temp: float = 22.0  # Celsius\n",
        "    mode: str = \"idle\"  # heating|cooling|idle\n",
        "\n",
        "    @oaas.constructor()\n",
        "    def initialize(self, target_temp: float = 22.0):\n",
        "        ...\n",
        "\n",
        "    @oaas.method()\n",
        "    def update_ambient_conditions(self, reading: AmbientReading) -> None:\n",
        "        ...\n",
        "\n",
        "    # Accessor setter for simple state write (not exported as RPC)\n",
        "    @oaas.setter()  # inferred: set_target_temp -> target_temp\n",
        "    def set_target_temp(self, value: float) -> float:\n",
        "        ...\n",
        "\n",
        "    # Accessors keep RPC surface smaller for simple reads\n",
        "    @oaas.getter(\"current_temp\")\n",
        "    def get_current_temp(self) -> float:\n",
        "        ...\n",
        "\n",
        "    @oaas.getter(\"current_humidity\")\n",
        "    def get_current_humidity(self) -> float:\n",
        "        ...\n",
        "\n",
        "    @oaas.getter(\"target_temp\")\n",
        "    def get_target_temp(self) -> float:\n",
        "        ...\n",
        "\n",
        "    @oaas.getter(\"mode\")\n",
        "    def get_mode(self) -> str:\n",
        "        ...\n",
        "\n",
        "# Example usage (optional):\n",
        "# t = Thermostat.create(obj_id=1)\n",
        "# await t.update_ambient_conditions(AmbientReading(temperature=21.0, humidity=55.0))\n",
        "# print(await t.get_mode())"
      ]
    },
    {
      "cell_type": "markdown",
      "metadata": {
        "id": "Sc8xTKFoHA_p"
      },
      "source": [
        "### **Task 2: Intelligent Lighting System with Scene Control**"
      ]
    },
    {
      "cell_type": "markdown",
      "metadata": {
        "id": "pKlY50HKFFf9"
      },
      "source": [
        "\n",
        "\n",
        "#### **The Lowdown**\n",
        "\n",
        "You're designing a control system for smart light bulbs in an office. It should let users change the brightness and color of individual lights or apply cool predefined \"scenes\" (like \"Focus\" or \"Relax\") to a whole room. The system also needs to keep track of what each light is doing.\n",
        "\n",
        "#### **The Must-Haves**\n",
        "\n",
        "* The system can tell any light to change its brightness and color.  \n",
        "* Users can create and save scenes that define the brightness and color for each light bulb.  \n",
        "* Users can apply a saved scene to a room, which will update all the lights in that room at once.  \n",
        "* Users can check the status and settings of every light in a room."
      ]
    },
    {
      "cell_type": "markdown",
      "metadata": {
        "id": "HF4f1KHeGmFw"
      },
      "source": [
        "#### **The FaaS Approach**\n",
        "\n",
        "*(Psst\\! Just a friendly reminder to create your diagram first, and to keep your stopwatch running and hit \"split\" after you finish each part\\!)*"
      ]
    },
    {
      "cell_type": "code",
      "execution_count": null,
      "metadata": {
        "id": "37fAcqCwGtat"
      },
      "outputs": [],
      "source": [
        "def control_light(event, context):\n",
        "    \"\"\"\n",
        "    Sends a command to a specific light to change its state.\n",
        "    \"\"\"\n",
        "    light_id = event['light_id']\n",
        "    brightness = event.get('brightness')\n",
        "    color = event.get('color')\n",
        "\n",
        "    # Your implementation here\n",
        "    pass\n",
        "\n",
        "    return {}\n",
        "\n",
        "def define_scene(event, context):\n",
        "    \"\"\"\n",
        "    Saves a scene definition to the database.\n",
        "    A scene includes settings for multiple lights.\n",
        "    \"\"\"\n",
        "    room_id = event['room_id']\n",
        "    scene_name = event['scene_name']\n",
        "    light_settings = event['light_settings']\n",
        "\n",
        "    # Your implementation here\n",
        "    pass\n",
        "\n",
        "    return {}\n",
        "\n",
        "# You might need more functions to handle the other requirements!\n",
        "\n"
      ]
    },
    {
      "cell_type": "markdown",
      "metadata": {
        "id": "hNIW73maGrYD"
      },
      "source": [
        "#### **The OaaS Approach**\n",
        "\n",
        "*(Psst\\! Just a friendly reminder to create your diagram first, and to keep your stopwatch running and hit \"split\" after you finish each part\\!)*"
      ]
    },
    {
      "cell_type": "code",
      "execution_count": null,
      "metadata": {
        "id": "dmPUVssyOsWH"
      },
      "outputs": [],
      "source": [
        "from typing import Dict, Optional\n",
        "from pydantic import BaseModel\n",
        "from oaas_sdk2_py import oaas, OaasObject\n",
        "oaas.configure(OaasConfig( mock_mode=True))\n",
        "\n",
        "class LightState(BaseModel):\n",
        "    brightness: int  # 0-100\n",
        "    color: str       # e.g., \"#ffffff\"\n",
        "\n",
        "@oaas.service(\"Light\", package=\"tasks\")\n",
        "class Light(OaasObject):\n",
        "    light_id: str = \"\"\n",
        "    state: LightState = LightState(brightness=100, color=\"#ffffff\")\n",
        "\n",
        "    @oaas.constructor()\n",
        "    def initialize(self, light_id: str, state: Optional[LightState] = None):\n",
        "        ...\n",
        "\n",
        "    @oaas.method(serve_with_agent=True)\n",
        "    def set_state(self, new_state: LightState) -> LightState:\n",
        "        ...\n",
        "\n",
        "    # Accessors for simple reads/writes of state\n",
        "    @oaas.getter(\"state\")\n",
        "    def get_state(self) -> LightState:\n",
        "        ...\n",
        "\n",
        "    @oaas.setter(\"state\")\n",
        "    def set_state_value(self, value: LightState) -> LightState:\n",
        "        ...\n",
        "\n",
        "@oaas.service(\"Room\", package=\"tasks\")\n",
        "class Room(OaasObject):\n",
        "    room_id: str = \"\"\n",
        "    lights: Dict[str, int] = {}  # light_id -> object_id\n",
        "    scenes: Dict[str, Dict[str, LightState]] = {}  # scene_name -> {light_id: state}\n",
        "\n",
        "    @oaas.constructor()\n",
        "    def initialize(self, room_id: str):\n",
        "        ...\n",
        "\n",
        "    @oaas.method()\n",
        "    def add_light(self, light_id: str, light_obj_id: int) -> bool:\n",
        "        ...\n",
        "\n",
        "    @oaas.method()\n",
        "    def define_scene(self, name: str, settings: Dict[str, LightState]) -> bool:\n",
        "        ...\n",
        "\n",
        "    @oaas.method()\n",
        "    def apply_scene(self, name: str) -> bool:\n",
        "        ...\n",
        "\n",
        "    @oaas.method()\n",
        "    def get_room_status(self) -> Dict[str, LightState]:\n",
        "        ..."
      ]
    },
    {
      "cell_type": "markdown",
      "metadata": {
        "id": "L2ZhS0ZbO3hq"
      },
      "source": [
        "### **Task 3: Remote Irrigation System with Soil Moisture Feedback**"
      ]
    },
    {
      "cell_type": "markdown",
      "metadata": {
        "id": "nUZa97nPO4UX"
      },
      "source": [
        "#### **The Lowdown**\n",
        "\n",
        "You're creating an automated irrigation system for a farm. It has multiple watering valves and soil moisture sensors. The system needs to decide when to open and close each valve based on sensor data and a watering policy. Farmers should also be able to take over and control the valves manually.\n",
        "\n",
        "#### **The Must-Haves**\n",
        "\n",
        "* Sensors will send moisture level updates periodically.  \n",
        "* The system should automatically open a valve if the soil gets too dry (below a set threshold).  \n",
        "* The system should automatically close a valve after it's been open for a specific amount of time.  \n",
        "* A farmer can manually command any valve to open or close.  \n",
        "* A farmer can check the current moisture level and valve status for each zone."
      ]
    },
    {
      "cell_type": "markdown",
      "metadata": {
        "id": "wvpun4LOO7N9"
      },
      "source": [
        "#### **The FaaS Approach**\n",
        "\n",
        "*(Psst\\! Just a friendly reminder to create your diagram first, and to keep your stopwatch running and hit \"split\" after you finish each part\\!)*"
      ]
    },
    {
      "cell_type": "code",
      "execution_count": null,
      "metadata": {
        "id": "_lC_J1QiO9Vd"
      },
      "outputs": [],
      "source": [
        "def handle_moisture_update(event, context):\n",
        "    \"\"\"\n",
        "    Gets triggered by a soil moisture sensor.\n",
        "    Decides whether to open a valve based on the moisture level.\n",
        "    \"\"\"\n",
        "    zone_id = event['zone_id']\n",
        "    moisture_level = event['moisture_level']\n",
        "\n",
        "    # Your implementation here\n",
        "    pass\n",
        "\n",
        "    return {}\n",
        "\n",
        "def manual_valve_control(event, context):\n",
        "    \"\"\"\n",
        "    Lets a farmer manually open or close a valve.\n",
        "    \"\"\"\n",
        "    zone_id = event['zone_id']\n",
        "    command = event['command'] # \"open\" or \"close\"\n",
        "\n",
        "    # Your implementation here\n",
        "    pass\n",
        "\n",
        "    return {}\n",
        "\n",
        "# You might need more functions to handle the other requirements!\n",
        "\n"
      ]
    },
    {
      "cell_type": "markdown",
      "metadata": {
        "id": "zsiEwe6FO_lF"
      },
      "source": [
        "#### **The OaaS Approach**\n",
        "\n",
        "*(Psst\\! Just a friendly reminder to create your diagram first, and to keep your stopwatch running and hit \"split\" after you finish each part\\!)*"
      ]
    },
    {
      "cell_type": "code",
      "execution_count": null,
      "metadata": {
        "id": "-3JF0blfPC-X"
      },
      "outputs": [],
      "source": [
        "from typing import Optional\n",
        "from pydantic import BaseModel\n",
        "from oaas_sdk2_py import oaas, OaasObject\n",
        "oaas.configure(OaasConfig( mock_mode=True))\n",
        "\n",
        "class MoistureReading(BaseModel):\n",
        "    level: float  # 0..1\n",
        "\n",
        "@oaas.service(\"WateringZone\", package=\"tasks\")\n",
        "class WateringZone(OaasObject):\n",
        "    zone_id: str = \"\"\n",
        "    moisture: float = 1.0\n",
        "    valve_open: bool = False\n",
        "    threshold: float = 0.3\n",
        "\n",
        "    @oaas.constructor()\n",
        "    def initialize(self, zone_id: str, threshold: float = 0.3):\n",
        "        ...\n",
        "\n",
        "    @oaas.method(serve_with_agent=True)\n",
        "    def set_valve(self, open_: bool) -> bool:\n",
        "        ...\n",
        "\n",
        "    @oaas.method()\n",
        "    def update_moisture(self, reading: MoistureReading) -> bool:\n",
        "        ...\n",
        "\n",
        "    @oaas.method()\n",
        "    def manual_override(self, open_: bool) -> bool:\n",
        "        ...\n",
        "\n",
        "    # Accessors for simple reads/writes\n",
        "    @oaas.getter(\"moisture\")\n",
        "    def get_moisture(self) -> float:\n",
        "        ...\n",
        "\n",
        "    @oaas.getter(\"valve_open\")\n",
        "    def is_valve_open(self) -> bool:\n",
        "        ...\n",
        "\n",
        "    @oaas.setter()  # inferred: set_threshold -> threshold\n",
        "    def set_threshold(self, value: float) -> float:\n",
        "        ..."
      ]
    },
    {
      "cell_type": "markdown",
      "metadata": {
        "id": "AquhOMkvPeIE"
      },
      "source": [
        "### **Time for a Change-Up\\!**\n",
        "\n",
        "*(Hold off on these until you've finished the main parts of all three tasks. And don't forget to hit \"split\" on your timer after reading the question\\!)*"
      ]
    },
    {
      "cell_type": "markdown",
      "metadata": {
        "id": "5qITeAT2Pf0b"
      },
      "source": [
        "#### **Task 1: Smart Thermostat**\n",
        "\n",
        "How would you change your design to handle a weekly schedule with different target temperatures for different times of the day (like 70°F during the day and 65°F at night)? You can assume there's an event system that can trigger your code at specific times (like a cron job). Check the **Handy Mock API**.\n",
        "\n"
      ]
    },
    {
      "cell_type": "markdown",
      "metadata": {
        "id": "qWSSDhBkSm4g"
      },
      "source": [
        "#### **Task 2: Intelligent Lighting System**\n",
        "\n",
        "The system needs to work with a new occupancy sensor in a special room. If the sensor says the room has been 'vacant' for more than 10 minutes, all the lights in that room should automatically turn off. When the sensor says 'occupied' again, the lights should go back to how they were before they turned off. You can assume there's a way to schedule your code to run after a certain amount of time. Check the **Handy Mock API**.\n"
      ]
    },
    {
      "cell_type": "markdown",
      "metadata": {
        "id": "HRGX61N7Sor0"
      },
      "source": [
        "\n",
        "#### **Task 3: Remote Irrigation System**\n",
        "\n",
        "How would you change your design to stop the sprinklers from turning on if an external weather API says it's going to rain in the next 6 hours? You can assume you have an API to check the weather forecast for any location. Check the **Handy Mock API**."
      ]
    },
    {
      "cell_type": "markdown",
      "metadata": {
        "id": "4EeFyDjnPl1s"
      },
      "source": [
        "#### **Maintainability Task Implementation**\n",
        "\n",
        "*(After you've thought about the change-up questions, add your updated code in the sections below. Remember to time your diagram and code updates separately\\!)*"
      ]
    },
    {
      "cell_type": "markdown",
      "metadata": {
        "id": "c2vj13g_Pm6w"
      },
      "source": [
        "##### **Task 1: Smart Thermostat**"
      ]
    },
    {
      "cell_type": "markdown",
      "metadata": {
        "id": "IN2CSCdBPr8n"
      },
      "source": [
        "**Updated FaaS Implementation**"
      ]
    },
    {
      "cell_type": "code",
      "execution_count": null,
      "metadata": {
        "id": "A84pn-o1PuKG"
      },
      "outputs": [],
      "source": [
        "# Your updated FaaS code here"
      ]
    },
    {
      "cell_type": "markdown",
      "metadata": {
        "id": "TzsCbdaPPxDR"
      },
      "source": [
        "**Updated OaaS Implementation**"
      ]
    },
    {
      "cell_type": "code",
      "execution_count": null,
      "metadata": {
        "id": "1LtcXKrpP1N5"
      },
      "outputs": [],
      "source": [
        "# Your updated OaaS code here"
      ]
    },
    {
      "cell_type": "markdown",
      "metadata": {
        "id": "hM-hDpz1QDS8"
      },
      "source": [
        "##### **Task 2: Intelligent Lighting System**"
      ]
    },
    {
      "cell_type": "markdown",
      "metadata": {
        "id": "cExDNj7bQDS8"
      },
      "source": [
        "**Updated FaaS Implementation**"
      ]
    },
    {
      "cell_type": "code",
      "execution_count": null,
      "metadata": {
        "id": "UiJeYLE5QDS8"
      },
      "outputs": [],
      "source": [
        "# Your updated FaaS code here"
      ]
    },
    {
      "cell_type": "markdown",
      "metadata": {
        "id": "2RjdHMgjQDS9"
      },
      "source": [
        "**Updated OaaS Implementation**"
      ]
    },
    {
      "cell_type": "code",
      "execution_count": null,
      "metadata": {
        "id": "m3bKDb1iQDS-"
      },
      "outputs": [],
      "source": [
        "# Your updated OaaS code here"
      ]
    },
    {
      "cell_type": "markdown",
      "metadata": {
        "id": "wJ6GdysXQD9K"
      },
      "source": [
        "##### **Task 3: Remote Irrigation System**"
      ]
    },
    {
      "cell_type": "markdown",
      "metadata": {
        "id": "X7KGk_76QD9K"
      },
      "source": [
        "**Updated FaaS Implementation**"
      ]
    },
    {
      "cell_type": "code",
      "execution_count": null,
      "metadata": {
        "id": "yo-fHgjKQD9K"
      },
      "outputs": [],
      "source": [
        "# Your updated FaaS code here"
      ]
    },
    {
      "cell_type": "markdown",
      "metadata": {
        "id": "ZXp1LtxkQD9L"
      },
      "source": [
        "**Updated OaaS Implementation**"
      ]
    },
    {
      "cell_type": "code",
      "execution_count": null,
      "metadata": {
        "id": "1tRMyHB8QD9L"
      },
      "outputs": [],
      "source": [
        "# Your updated OaaS code here"
      ]
    }
  ],
  "metadata": {
    "colab": {
      "collapsed_sections": [
        "cXDa2_2CEoaK"
      ],
      "provenance": [],
      "toc_visible": true
    },
    "kernelspec": {
      "display_name": "oaas-sdk-study",
      "language": "python",
      "name": "python3"
    },
    "language_info": {
      "codemirror_mode": {
        "name": "ipython",
        "version": 3
      },
      "file_extension": ".py",
      "mimetype": "text/x-python",
      "name": "python",
      "nbconvert_exporter": "python",
      "pygments_lexer": "ipython3",
      "version": "3.13.7"
    }
  },
  "nbformat": 4,
  "nbformat_minor": 0
}
